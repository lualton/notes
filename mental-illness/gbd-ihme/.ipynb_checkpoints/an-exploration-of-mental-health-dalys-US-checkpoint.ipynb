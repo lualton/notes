{
 "cells": [
  {
   "cell_type": "markdown",
   "metadata": {},
   "source": [
    "# An Exploration of Mental Health DALY's in the United States"
   ]
  },
  {
   "cell_type": "markdown",
   "metadata": {},
   "source": [
    "http://ghdx.healthdata.org/gbd-results-tool?params=gbd-api-2017-permalink/81a19433c676c8886b17f381430d4eeb\n",
    "\n",
    "Global Burden of Disease Collaborative Network.\n",
    "Global Burden of Disease Study 2017 (GBD 2017) Results.\n",
    "Seattle, United States: Institute for Health Metrics and Evaluation (IHME), 2018.\n",
    "Available from http://ghdx.healthdata.org/gbd-results-tool."
   ]
  },
  {
   "cell_type": "code",
   "execution_count": 39,
   "metadata": {},
   "outputs": [],
   "source": [
    "import pandas as pd\n",
    "import numpy as np\n",
    "import matplotlib.pyplot as plt\n",
    "import seaborn as sns\n",
    "\n",
    "%matplotlib inline"
   ]
  },
  {
   "cell_type": "code",
   "execution_count": 4,
   "metadata": {},
   "outputs": [],
   "source": [
    "df = pd.read_csv(\"IHME-GBD_2017_DATA-fc25cec6-1.csv\")\n",
    "data = df\n",
    "data = data[['location', 'sex', 'age', 'cause', 'metric', 'year', 'val', 'upper', 'lower']]"
   ]
  },
  {
   "cell_type": "code",
   "execution_count": 5,
   "metadata": {},
   "outputs": [
    {
     "data": {
      "text/html": [
       "<div>\n",
       "<style scoped>\n",
       "    .dataframe tbody tr th:only-of-type {\n",
       "        vertical-align: middle;\n",
       "    }\n",
       "\n",
       "    .dataframe tbody tr th {\n",
       "        vertical-align: top;\n",
       "    }\n",
       "\n",
       "    .dataframe thead th {\n",
       "        text-align: right;\n",
       "    }\n",
       "</style>\n",
       "<table border=\"1\" class=\"dataframe\">\n",
       "  <thead>\n",
       "    <tr style=\"text-align: right;\">\n",
       "      <th></th>\n",
       "      <th>measure</th>\n",
       "      <th>location</th>\n",
       "      <th>sex</th>\n",
       "      <th>age</th>\n",
       "      <th>cause</th>\n",
       "      <th>metric</th>\n",
       "      <th>year</th>\n",
       "      <th>val</th>\n",
       "      <th>upper</th>\n",
       "      <th>lower</th>\n",
       "    </tr>\n",
       "  </thead>\n",
       "  <tbody>\n",
       "    <tr>\n",
       "      <th>0</th>\n",
       "      <td>DALYs (Disability-Adjusted Life Years)</td>\n",
       "      <td>Arizona</td>\n",
       "      <td>Male</td>\n",
       "      <td>5-14 years</td>\n",
       "      <td>Mental disorders</td>\n",
       "      <td>Number</td>\n",
       "      <td>2011</td>\n",
       "      <td>5585.091183</td>\n",
       "      <td>7813.981749</td>\n",
       "      <td>3840.342423</td>\n",
       "    </tr>\n",
       "    <tr>\n",
       "      <th>1</th>\n",
       "      <td>DALYs (Disability-Adjusted Life Years)</td>\n",
       "      <td>Arizona</td>\n",
       "      <td>Female</td>\n",
       "      <td>5-14 years</td>\n",
       "      <td>Mental disorders</td>\n",
       "      <td>Number</td>\n",
       "      <td>2011</td>\n",
       "      <td>5777.700835</td>\n",
       "      <td>8031.805283</td>\n",
       "      <td>4024.038067</td>\n",
       "    </tr>\n",
       "    <tr>\n",
       "      <th>2</th>\n",
       "      <td>DALYs (Disability-Adjusted Life Years)</td>\n",
       "      <td>Arizona</td>\n",
       "      <td>Male</td>\n",
       "      <td>5-14 years</td>\n",
       "      <td>Mental disorders</td>\n",
       "      <td>Percent</td>\n",
       "      <td>2011</td>\n",
       "      <td>0.203685</td>\n",
       "      <td>0.247495</td>\n",
       "      <td>0.161759</td>\n",
       "    </tr>\n",
       "    <tr>\n",
       "      <th>3</th>\n",
       "      <td>DALYs (Disability-Adjusted Life Years)</td>\n",
       "      <td>Arizona</td>\n",
       "      <td>Female</td>\n",
       "      <td>5-14 years</td>\n",
       "      <td>Mental disorders</td>\n",
       "      <td>Percent</td>\n",
       "      <td>2011</td>\n",
       "      <td>0.225791</td>\n",
       "      <td>0.270249</td>\n",
       "      <td>0.184918</td>\n",
       "    </tr>\n",
       "    <tr>\n",
       "      <th>4</th>\n",
       "      <td>DALYs (Disability-Adjusted Life Years)</td>\n",
       "      <td>Arizona</td>\n",
       "      <td>Male</td>\n",
       "      <td>5-14 years</td>\n",
       "      <td>Mental disorders</td>\n",
       "      <td>Rate</td>\n",
       "      <td>2011</td>\n",
       "      <td>1185.407424</td>\n",
       "      <td>1658.478201</td>\n",
       "      <td>815.093303</td>\n",
       "    </tr>\n",
       "  </tbody>\n",
       "</table>\n",
       "</div>"
      ],
      "text/plain": [
       "                                  measure location     sex         age  \\\n",
       "0  DALYs (Disability-Adjusted Life Years)  Arizona    Male  5-14 years   \n",
       "1  DALYs (Disability-Adjusted Life Years)  Arizona  Female  5-14 years   \n",
       "2  DALYs (Disability-Adjusted Life Years)  Arizona    Male  5-14 years   \n",
       "3  DALYs (Disability-Adjusted Life Years)  Arizona  Female  5-14 years   \n",
       "4  DALYs (Disability-Adjusted Life Years)  Arizona    Male  5-14 years   \n",
       "\n",
       "              cause   metric  year          val        upper        lower  \n",
       "0  Mental disorders   Number  2011  5585.091183  7813.981749  3840.342423  \n",
       "1  Mental disorders   Number  2011  5777.700835  8031.805283  4024.038067  \n",
       "2  Mental disorders  Percent  2011     0.203685     0.247495     0.161759  \n",
       "3  Mental disorders  Percent  2011     0.225791     0.270249     0.184918  \n",
       "4  Mental disorders     Rate  2011  1185.407424  1658.478201   815.093303  "
      ]
     },
     "execution_count": 5,
     "metadata": {},
     "output_type": "execute_result"
    }
   ],
   "source": [
    "df.head()"
   ]
  },
  {
   "cell_type": "code",
   "execution_count": 6,
   "metadata": {},
   "outputs": [],
   "source": [
    "data = data.pivot_table(index=['location', 'sex', 'age', 'cause', 'year'], columns='metric', values=['val', 'upper', 'lower']\n",
    ").reset_index()"
   ]
  },
  {
   "cell_type": "code",
   "execution_count": 7,
   "metadata": {},
   "outputs": [],
   "source": [
    "data.columns = ['_'.join(col).strip() for col in data.columns.values]\n",
    "\n",
    "data.columns = ['location', 'sex', 'age', 'cause', 'year', 'low_num', \n",
    "              'low_perc', 'low_rate', 'up_num', 'up_perc', \n",
    "              'up_rate', 'val_num', 'val_perc', 'val_rate']\n",
    "\n",
    "data = data[['location', 'sex', 'age', 'cause', 'year', \n",
    "                 'val_num', 'low_num', 'up_num', \n",
    "                 'val_perc', 'low_perc', 'up_perc',  \n",
    "                 'val_rate', 'low_rate', 'up_rate']]"
   ]
  },
  {
   "cell_type": "code",
   "execution_count": 8,
   "metadata": {},
   "outputs": [
    {
     "data": {
      "text/html": [
       "<div>\n",
       "<style scoped>\n",
       "    .dataframe tbody tr th:only-of-type {\n",
       "        vertical-align: middle;\n",
       "    }\n",
       "\n",
       "    .dataframe tbody tr th {\n",
       "        vertical-align: top;\n",
       "    }\n",
       "\n",
       "    .dataframe thead th {\n",
       "        text-align: right;\n",
       "    }\n",
       "</style>\n",
       "<table border=\"1\" class=\"dataframe\">\n",
       "  <thead>\n",
       "    <tr style=\"text-align: right;\">\n",
       "      <th></th>\n",
       "      <th>location</th>\n",
       "      <th>sex</th>\n",
       "      <th>age</th>\n",
       "      <th>cause</th>\n",
       "      <th>year</th>\n",
       "      <th>val_num</th>\n",
       "      <th>low_num</th>\n",
       "      <th>up_num</th>\n",
       "      <th>val_perc</th>\n",
       "      <th>low_perc</th>\n",
       "      <th>up_perc</th>\n",
       "      <th>val_rate</th>\n",
       "      <th>low_rate</th>\n",
       "      <th>up_rate</th>\n",
       "    </tr>\n",
       "  </thead>\n",
       "  <tbody>\n",
       "    <tr>\n",
       "      <th>0</th>\n",
       "      <td>Alabama</td>\n",
       "      <td>Female</td>\n",
       "      <td>15-49 years</td>\n",
       "      <td>Anxiety disorders</td>\n",
       "      <td>2011</td>\n",
       "      <td>11531.545689</td>\n",
       "      <td>8044.773025</td>\n",
       "      <td>15508.720559</td>\n",
       "      <td>0.045077</td>\n",
       "      <td>0.035896</td>\n",
       "      <td>0.055436</td>\n",
       "      <td>1013.752948</td>\n",
       "      <td>707.226298</td>\n",
       "      <td>1363.391484</td>\n",
       "    </tr>\n",
       "    <tr>\n",
       "      <th>1</th>\n",
       "      <td>Alabama</td>\n",
       "      <td>Female</td>\n",
       "      <td>15-49 years</td>\n",
       "      <td>Anxiety disorders</td>\n",
       "      <td>2012</td>\n",
       "      <td>11492.018260</td>\n",
       "      <td>8005.357534</td>\n",
       "      <td>15445.014948</td>\n",
       "      <td>0.045179</td>\n",
       "      <td>0.035988</td>\n",
       "      <td>0.055031</td>\n",
       "      <td>1012.747704</td>\n",
       "      <td>705.481603</td>\n",
       "      <td>1361.110214</td>\n",
       "    </tr>\n",
       "    <tr>\n",
       "      <th>2</th>\n",
       "      <td>Alabama</td>\n",
       "      <td>Female</td>\n",
       "      <td>15-49 years</td>\n",
       "      <td>Anxiety disorders</td>\n",
       "      <td>2013</td>\n",
       "      <td>11455.486756</td>\n",
       "      <td>8025.605986</td>\n",
       "      <td>15490.670023</td>\n",
       "      <td>0.045023</td>\n",
       "      <td>0.035955</td>\n",
       "      <td>0.055284</td>\n",
       "      <td>1011.061287</td>\n",
       "      <td>708.340002</td>\n",
       "      <td>1367.206571</td>\n",
       "    </tr>\n",
       "    <tr>\n",
       "      <th>3</th>\n",
       "      <td>Alabama</td>\n",
       "      <td>Female</td>\n",
       "      <td>15-49 years</td>\n",
       "      <td>Anxiety disorders</td>\n",
       "      <td>2014</td>\n",
       "      <td>11428.683471</td>\n",
       "      <td>7987.281476</td>\n",
       "      <td>15385.678877</td>\n",
       "      <td>0.044644</td>\n",
       "      <td>0.035973</td>\n",
       "      <td>0.054934</td>\n",
       "      <td>1009.921328</td>\n",
       "      <td>705.814098</td>\n",
       "      <td>1359.590130</td>\n",
       "    </tr>\n",
       "    <tr>\n",
       "      <th>4</th>\n",
       "      <td>Alabama</td>\n",
       "      <td>Female</td>\n",
       "      <td>15-49 years</td>\n",
       "      <td>Anxiety disorders</td>\n",
       "      <td>2015</td>\n",
       "      <td>11410.221268</td>\n",
       "      <td>8048.188512</td>\n",
       "      <td>15402.265928</td>\n",
       "      <td>0.044235</td>\n",
       "      <td>0.035487</td>\n",
       "      <td>0.054313</td>\n",
       "      <td>1009.103449</td>\n",
       "      <td>711.770140</td>\n",
       "      <td>1362.154099</td>\n",
       "    </tr>\n",
       "  </tbody>\n",
       "</table>\n",
       "</div>"
      ],
      "text/plain": [
       "  location     sex          age              cause  year       val_num  \\\n",
       "0  Alabama  Female  15-49 years  Anxiety disorders  2011  11531.545689   \n",
       "1  Alabama  Female  15-49 years  Anxiety disorders  2012  11492.018260   \n",
       "2  Alabama  Female  15-49 years  Anxiety disorders  2013  11455.486756   \n",
       "3  Alabama  Female  15-49 years  Anxiety disorders  2014  11428.683471   \n",
       "4  Alabama  Female  15-49 years  Anxiety disorders  2015  11410.221268   \n",
       "\n",
       "       low_num        up_num  val_perc  low_perc   up_perc     val_rate  \\\n",
       "0  8044.773025  15508.720559  0.045077  0.035896  0.055436  1013.752948   \n",
       "1  8005.357534  15445.014948  0.045179  0.035988  0.055031  1012.747704   \n",
       "2  8025.605986  15490.670023  0.045023  0.035955  0.055284  1011.061287   \n",
       "3  7987.281476  15385.678877  0.044644  0.035973  0.054934  1009.921328   \n",
       "4  8048.188512  15402.265928  0.044235  0.035487  0.054313  1009.103449   \n",
       "\n",
       "     low_rate      up_rate  \n",
       "0  707.226298  1363.391484  \n",
       "1  705.481603  1361.110214  \n",
       "2  708.340002  1367.206571  \n",
       "3  705.814098  1359.590130  \n",
       "4  711.770140  1362.154099  "
      ]
     },
     "execution_count": 8,
     "metadata": {},
     "output_type": "execute_result"
    }
   ],
   "source": [
    "data.head()"
   ]
  },
  {
   "cell_type": "markdown",
   "metadata": {},
   "source": [
    "# Age Grouping"
   ]
  },
  {
   "cell_type": "code",
   "execution_count": 30,
   "metadata": {},
   "outputs": [],
   "source": [
    "a = data.groupby('age').agg({'val_rate':['sum', 'mean', 'median']})\n",
    "a.columns = ['_'.join(col).strip() for col in a.columns.values]\n",
    "a = a.reset_index()"
   ]
  },
  {
   "cell_type": "code",
   "execution_count": 45,
   "metadata": {},
   "outputs": [
    {
     "data": {
      "text/plain": [
       "Text(0.5, 1.0, \"Mental Health DALY's by Age Group\")"
      ]
     },
     "execution_count": 45,
     "metadata": {},
     "output_type": "execute_result"
    },
    {
     "data": {
      "image/png": "[encoded data removed]",
      "text/plain": [
       "<Figure size 864x432 with 1 Axes>"
      ]
     },
     "metadata": {
      "needs_background": "light"
     },
     "output_type": "display_data"
    }
   ],
   "source": [
    "plt.figure(figsize=(12, 6))\n",
    "fig = sns.barplot(x='age', y='val_rate_median', data = a)\n",
    "fig.set_xlabel(\"Age Group\")\n",
    "fig.set_ylabel(\"Median Rate of DALY's per 100,000 Pop\")\n",
    "fig.set_title(\"Mental Health DALY's by Age Group\")"
   ]
  },
  {
   "cell_type": "code",
   "execution_count": null,
   "metadata": {},
   "outputs": [],
   "source": []
  }
 ],
 "metadata": {
  "kernelspec": {
   "display_name": "Python 3",
   "language": "python",
   "name": "python3"
  },
  "language_info": {
   "codemirror_mode": {
    "name": "ipython",
    "version": 3
   },
   "file_extension": ".py",
   "mimetype": "text/x-python",
   "name": "python",
   "nbconvert_exporter": "python",
   "pygments_lexer": "ipython3",
   "version": "3.7.1"
  }
 },
 "nbformat": 4,
 "nbformat_minor": 2
}
