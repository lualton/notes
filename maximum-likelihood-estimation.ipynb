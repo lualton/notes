{
 "cells": [
  {
   "cell_type": "markdown",
   "metadata": {},
   "source": [
    "## A Simple Explanation of Maximum Likelihood Estimation\n",
    "\n",
    "\n",
    "For those learning or new to MLE\n",
    "\n",
    "The key: Ignore the word 'Likelihood' and just think about the 'Probability'. Maximum Likelihood Estimation (MLE) is really a way of maximizing the probability of what we're trying to learn.\n",
    "\n",
    "It's okay to ignore when you're learning for intuition's sake. In more advanced statistics, the difference actually matters, but not for introductory machine learning"
   ]
  },
  {
   "cell_type": "code",
   "execution_count": null,
   "metadata": {},
   "outputs": [],
   "source": []
  }
 ],
 "metadata": {
  "kernelspec": {
   "display_name": "Python 3",
   "language": "python",
   "name": "python3"
  },
  "language_info": {
   "codemirror_mode": {
    "name": "ipython",
    "version": 3
   },
   "file_extension": ".py",
   "mimetype": "text/x-python",
   "name": "python",
   "nbconvert_exporter": "python",
   "pygments_lexer": "ipython3",
   "version": "3.6.5"
  }
 },
 "nbformat": 4,
 "nbformat_minor": 2
}
